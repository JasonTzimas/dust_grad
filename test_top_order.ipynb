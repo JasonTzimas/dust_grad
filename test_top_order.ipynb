{
 "cells": [
  {
   "cell_type": "code",
   "execution_count": null,
   "metadata": {},
   "outputs": [],
   "source": [
    "class node(object):\n",
    "    def __init__(self, x):\n",
    "        self.x = x\n",
    "        self.children = []\n"
   ]
  },
  {
   "cell_type": "code",
   "execution_count": 19,
   "metadata": {},
   "outputs": [
    {
     "name": "stdout",
     "output_type": "stream",
     "text": [
      "['a', 'g', 'b', 'c', 'd', 'e', 'f']\n"
     ]
    }
   ],
   "source": [
    "a = node('a')\n",
    "b = node('b')\n",
    "c = node('c')\n",
    "d = node('d')\n",
    "e = node('e')\n",
    "f = node('f')\n",
    "g = node('g')\n",
    "\n",
    "a.children = [b, e, g]\n",
    "b.children = [c]\n",
    "c.children = [d]\n",
    "d.children = [e]\n",
    "e.children = [f]\n",
    "g.children = [e]\n",
    "\n",
    "topo_ord = get_topological_order(a)\n",
    "print(list(reversed(topo_ord)))\n"
   ]
  }
 ],
 "metadata": {
  "kernelspec": {
   "display_name": "Python 3",
   "language": "python",
   "name": "python3"
  },
  "language_info": {
   "codemirror_mode": {
    "name": "ipython",
    "version": 3
   },
   "file_extension": ".py",
   "mimetype": "text/x-python",
   "name": "python",
   "nbconvert_exporter": "python",
   "pygments_lexer": "ipython3",
   "version": "3.13.0"
  }
 },
 "nbformat": 4,
 "nbformat_minor": 2
}
